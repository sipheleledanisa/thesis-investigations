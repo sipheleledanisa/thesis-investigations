{
 "cells": [
  {
   "cell_type": "code",
   "execution_count": null,
   "source": [
    "import glob\n",
    "import os.path\n",
    "import numpy as np\n",
    "\n",
    "folder_path = r'../log/diff-ma_softq/2/MASQL_MASQL'\n",
    "file_type = '/*csv'\n",
    "files = glob.glob(folder_path + file_type)\n",
    "max_file = max(files, key=os.path.getctime)\n",
    "\n",
    "import pandas as pd\n",
    "df = pd.read_csv (max_file)\n",
    "\n",
    "mean_0=np.array(df['mean-path-return_agent_0'])\n",
    "mean_1=np.array(df['mean-path-return_agent_1'])\n",
    "max_0=np.array(df['max-path-return_agent_0'])\n",
    "max_1=np.array(df['max-path-return_agent_1'])\n",
    "episode=np.array(df['episodes'])\n",
    "\n",
    "import matplotlib.pyplot as plt\n",
    "plt.figure()\n",
    "plt.xlabel(\"episodes\")\n",
    "plt.ylabel(\"return\")\n",
    "plt.title(\"Returns from Logs\")\n",
    "plt.plot(episode, mean_0,color='blue',marker='x',label='mean-path-return')\n",
    "plt.plot(episode,max_0, color='green', linestyle=\"--\",label=\"max-episode-return\")\n",
    "plt.legend()\n",
    "plt.show()\n"
   ],
   "outputs": [],
   "metadata": {}
  }
 ],
 "metadata": {
  "orig_nbformat": 4,
  "language_info": {
   "name": "python"
  }
 },
 "nbformat": 4,
 "nbformat_minor": 2
}