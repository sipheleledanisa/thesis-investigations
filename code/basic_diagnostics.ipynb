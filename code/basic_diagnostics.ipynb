{
 "cells": [
  {
   "cell_type": "code",
   "execution_count": 1,
   "source": [
    "import glob\n",
    "import os.path\n",
    "import numpy as np\n",
    "\n",
    "folder_path = r'../log/diff-ma_softq/2/MASQL_MASQL'\n",
    "file_type = '/*csv'\n",
    "files = glob.glob(folder_path + file_type)\n",
    "max_file = max(files, key=os.path.getctime)\n",
    "\n",
    "import pandas as pd\n",
    "df = pd.read_csv (max_file)\n",
    "\n",
    "mean_0=np.array(df['mean-path-return_agent_0'])\n",
    "mean_1=np.array(df['mean-path-return_agent_1'])\n",
    "max_0=np.array(df['max-path-return_agent_0'])\n",
    "max_1=np.array(df['max-path-return_agent_1'])\n",
    "episode=np.array(df['episodes'])\n",
    "\n",
    "import matplotlib.pyplot as plt\n",
    "plt.figure()\n",
    "plt.xlabel(\"episodes\")\n",
    "plt.ylabel(\"return\")\n",
    "plt.title(\"Returns from Logs\")\n",
    "plt.plot(episode, mean_0,color='blue',label='mean-path-return')\n",
    "plt.plot(episode,max_0, color='green', linestyle=\"--\",label=\"max-episode-return\")\n",
    "plt.legend()\n",
    "plt.show()\n",
    "\n"
   ],
   "outputs": [
    {
     "output_type": "display_data",
     "data": {
      "text/plain": [
       "<Figure size 640x480 with 1 Axes>"
      ]
     },
     "metadata": {}
    }
   ],
   "metadata": {}
  },
  {
   "cell_type": "code",
   "execution_count": null,
   "source": [],
   "outputs": [],
   "metadata": {}
  },
  {
   "cell_type": "code",
   "execution_count": null,
   "source": [],
   "outputs": [],
   "metadata": {}
  }
 ],
 "metadata": {
  "orig_nbformat": 4,
  "language_info": {
   "name": "python",
   "version": "3.6.5",
   "mimetype": "text/x-python",
   "codemirror_mode": {
    "name": "ipython",
    "version": 3
   },
   "pygments_lexer": "ipython3",
   "nbconvert_exporter": "python",
   "file_extension": ".py"
  },
  "kernelspec": {
   "name": "python3",
   "display_name": "Python 3.6.5 64-bit ('dev_thesis': conda)"
  },
  "interpreter": {
   "hash": "266085bdbf26bd3ff5f9d0df3bf5b9ea542585cdd668a893c1b0847d230ed0e6"
  }
 },
 "nbformat": 4,
 "nbformat_minor": 2
}